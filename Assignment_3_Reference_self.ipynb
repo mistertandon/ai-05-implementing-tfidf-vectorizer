{
 "cells": [
  {
   "cell_type": "code",
   "execution_count": 49,
   "metadata": {},
   "outputs": [],
   "source": [
    "import pandas as pd\n",
    "import numpy as np\n",
    "from tqdm import tqdm\n",
    "from collections import Counter \n",
    "import os\n",
    "from sys import getsizeof"
   ]
  },
  {
   "cell_type": "markdown",
   "metadata": {},
   "source": [
    "## [1] Fit Method"
   ]
  },
  {
   "cell_type": "code",
   "execution_count": 50,
   "metadata": {},
   "outputs": [],
   "source": [
    "def fit(dataset):\n",
    "    \n",
    "    unique_words = set()\n",
    "    vocab = dict()\n",
    "    \n",
    "    for sentence in tqdm(dataset):\n",
    "        \n",
    "        for word in sentence.split():\n",
    "            if len(word) < 2:\n",
    "                continue\n",
    "\n",
    "            unique_words.add(word)\n",
    "        \n",
    "    unique_words_list = sorted(list(unique_words))\n",
    "    \n",
    "    vocab = {word:index for index, word in enumerate(unique_words_list)}\n",
    "    \n",
    "    return vocab"
   ]
  },
  {
   "cell_type": "code",
   "execution_count": 51,
   "metadata": {},
   "outputs": [
    {
     "name": "stderr",
     "output_type": "stream",
     "text": [
      "100%|██████████████████████████████████████████████████████████████████████████████████| 2/2 [00:00<00:00, 1703.96it/s]\n"
     ]
    },
    {
     "name": "stdout",
     "output_type": "stream",
     "text": [
      "{'aaa': 0, 'aaaaaaa': 1, 'abbb': 2, 'abc': 3, 'baaa': 4, 'def': 5, 'lmn': 6, 'pqr': 7, 'prq': 8}\n"
     ]
    }
   ],
   "source": [
    "vocab = fit([\"abc def aaa prq\", \"lmn pqr aaaaaaa aaa abbb baaa\"])\n",
    "print(vocab)"
   ]
  },
  {
   "cell_type": "markdown",
   "metadata": {},
   "source": [
    "<ol>\n",
    "    <li> Matrix matrix \n",
    "<pre>\n",
    "[[1, 0, 0, 0, 0], \n",
    "[0, 0, 0, 1, 0], \n",
    "[0, 0, 4, 0, 0]]\n",
    "\n",
    "</pre>\n",
    "    </li>\n",
    "\n",
    "\n",
    "</ol>"
   ]
  },
  {
   "cell_type": "code",
   "execution_count": 52,
   "metadata": {},
   "outputs": [
    {
     "name": "stdout",
     "output_type": "stream",
     "text": [
      "172\n"
     ]
    }
   ],
   "source": [
    "dense_mtx = np.array([[1, 0, 0, 0, 0], [0, 0, 0, 1, 0], [0, 0, 4, 0, 0]])\n",
    "dense_mtx = getsizeof(dense_mtx)\n",
    "print(dense_mtx)"
   ]
  },
  {
   "cell_type": "code",
   "execution_count": 53,
   "metadata": {},
   "outputs": [
    {
     "name": "stdout",
     "output_type": "stream",
     "text": [
      "88\n"
     ]
    }
   ],
   "source": [
    "sparse_mtx = [(0,0,1), (1,3,1), (2,2,2)]\n",
    "sparse_mtx = getsizeof(sparse_mtx)\n",
    "print(sparse_mtx)"
   ]
  },
  {
   "cell_type": "markdown",
   "metadata": {},
   "source": [
    "## [2] Transform Method"
   ]
  },
  {
   "cell_type": "markdown",
   "metadata": {},
   "source": [
    "### [2.1] Using this method we will compute sparse matrix"
   ]
  },
  {
   "cell_type": "code",
   "execution_count": 54,
   "metadata": {},
   "outputs": [],
   "source": [
    "def get_unique_words_with_freq(sentence):\n",
    "\n",
    "    unique_word_with_freq = dict(Counter(sentence.split()))\n",
    "    \n",
    "    return unique_word_with_freq"
   ]
  },
  {
   "cell_type": "code",
   "execution_count": 55,
   "metadata": {},
   "outputs": [
    {
     "data": {
      "text/plain": [
       "{'abc': 2, 'def': 2, 'zzz': 2, 'pqr': 1}"
      ]
     },
     "execution_count": 55,
     "metadata": {},
     "output_type": "execute_result"
    }
   ],
   "source": [
    "test = 'abc def abc def zzz zzz pqr'\n",
    "get_unique_words_with_freq(test)"
   ]
  },
  {
   "cell_type": "code",
   "execution_count": 56,
   "metadata": {},
   "outputs": [],
   "source": [
    "from scipy.sparse import csr_matrix"
   ]
  },
  {
   "cell_type": "code",
   "execution_count": 57,
   "metadata": {},
   "outputs": [
    {
     "name": "stdout",
     "output_type": "stream",
     "text": [
      "Dataset : \n"
     ]
    }
   ],
   "source": [
    "strings = [\"the method of lagrange multipliers is the economists workhorse for solving optimization problems\",\n",
    "           \"the technique is a centerpiece of economic theory but unfortunately its usually taught poorly\"]\n",
    "print(\"Dataset : \".format(strings))"
   ]
  },
  {
   "cell_type": "code",
   "execution_count": 58,
   "metadata": {},
   "outputs": [
    {
     "name": "stderr",
     "output_type": "stream",
     "text": [
      "100%|██████████████████████████████████████████████████████████████████████████████████| 2/2 [00:00<00:00, 2457.84it/s]\n"
     ]
    },
    {
     "name": "stdout",
     "output_type": "stream",
     "text": [
      "Vocabulary : {'but': 0, 'centerpiece': 1, 'economic': 2, 'economists': 3, 'for': 4, 'is': 5, 'its': 6, 'lagrange': 7, 'method': 8, 'multipliers': 9, 'of': 10, 'optimization': 11, 'poorly': 12, 'problems': 13, 'solving': 14, 'taught': 15, 'technique': 16, 'the': 17, 'theory': 18, 'unfortunately': 19, 'usually': 20, 'workhorse': 21}\n"
     ]
    }
   ],
   "source": [
    "vocabulary_i = fit(strings)\n",
    "print(\"Vocabulary : {}\".format(vocabulary_i))"
   ]
  },
  {
   "cell_type": "code",
   "execution_count": 59,
   "metadata": {},
   "outputs": [],
   "source": [
    "def transform(dataset, vocabulary):\n",
    "    \"\"\"\n",
    "    Compute sparse marix given dataset and vocabulary\n",
    "    \n",
    "    Parameter:\n",
    "    \n",
    "    dataset: list()\n",
    "        List of sentences\n",
    "    vocabulary: dict()\n",
    "        {word: frequency}\n",
    "        \n",
    "    Return: sparse_mtx\n",
    "        2-d Matrix\n",
    "    \"\"\"\n",
    "    rows, cols, frequencies = list(), list(), list()\n",
    "    sparse_mtx = \"\"\n",
    "    if isinstance(dataset, list):\n",
    "\n",
    "        for idx, sentence in enumerate(dataset):\n",
    "\n",
    "            word_with_freq = get_unique_words_with_freq(sentence)\n",
    "\n",
    "            for word, frequency in word_with_freq.items():\n",
    "\n",
    "                if len(word) < 2:\n",
    "                    continue\n",
    "\n",
    "                col_index = vocabulary.get(word, -1)\n",
    "                if col_index != -1:\n",
    "\n",
    "                    rows.append(idx)\n",
    "                    cols.append(col_index)\n",
    "                    frequencies.append(frequency)\n",
    "\n",
    "        sparse_mtx = csr_matrix((frequencies, (rows,cols)), shape = (len(strings), len(vocabulary)))\n",
    "        \n",
    "    return sparse_mtx"
   ]
  },
  {
   "cell_type": "code",
   "execution_count": 60,
   "metadata": {},
   "outputs": [
    {
     "name": "stdout",
     "output_type": "stream",
     "text": [
      "  (0, 3)\t1\n",
      "  (0, 4)\t1\n",
      "  (0, 5)\t1\n",
      "  (0, 7)\t1\n",
      "  (0, 8)\t1\n",
      "  (0, 9)\t1\n",
      "  (0, 10)\t1\n",
      "  (0, 11)\t1\n",
      "  (0, 13)\t1\n",
      "  (0, 14)\t1\n",
      "  (0, 17)\t2\n",
      "  (0, 21)\t1\n",
      "  (1, 0)\t1\n",
      "  (1, 1)\t1\n",
      "  (1, 2)\t1\n",
      "  (1, 5)\t1\n",
      "  (1, 6)\t1\n",
      "  (1, 10)\t1\n",
      "  (1, 12)\t1\n",
      "  (1, 15)\t1\n",
      "  (1, 16)\t1\n",
      "  (1, 17)\t1\n",
      "  (1, 18)\t1\n",
      "  (1, 19)\t1\n",
      "  (1, 20)\t1\n"
     ]
    }
   ],
   "source": [
    "sparse_mtx = transform(strings, vocabulary_i)\n",
    "print(sparse_mtx)"
   ]
  }
 ],
 "metadata": {
  "kernelspec": {
   "display_name": "Python 3",
   "language": "python",
   "name": "python3"
  },
  "language_info": {
   "codemirror_mode": {
    "name": "ipython",
    "version": 3
   },
   "file_extension": ".py",
   "mimetype": "text/x-python",
   "name": "python",
   "nbconvert_exporter": "python",
   "pygments_lexer": "ipython3",
   "version": "3.7.0"
  }
 },
 "nbformat": 4,
 "nbformat_minor": 2
}
